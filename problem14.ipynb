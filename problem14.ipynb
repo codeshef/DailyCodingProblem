{
  "nbformat": 4,
  "nbformat_minor": 0,
  "metadata": {
    "colab": {
      "name": "Untitled0.ipynb",
      "provenance": [],
      "authorship_tag": "ABX9TyNb1PX8r74TZpBhss5KlnVE",
      "include_colab_link": true
    },
    "kernelspec": {
      "name": "python3",
      "display_name": "Python 3"
    }
  },
  "cells": [
    {
      "cell_type": "markdown",
      "metadata": {
        "id": "view-in-github",
        "colab_type": "text"
      },
      "source": [
        "<a href=\"https://colab.research.google.com/github/codeshef/DailyCodingProblem/blob/master/problem14.ipynb\" target=\"_parent\"><img src=\"https://colab.research.google.com/assets/colab-badge.svg\" alt=\"Open In Colab\"/></a>"
      ]
    },
    {
      "cell_type": "markdown",
      "metadata": {
        "id": "G2giYjOkacF2",
        "colab_type": "text"
      },
      "source": [
        "Daily Coding Problem : 14\n",
        "\n",
        "This problem was asked by Airbnb.\n",
        "\n",
        "Given a list of integers, write a function that returns the largest sum of non-adjacent numbers. Numbers can be 0 or negative.\n",
        "\n",
        "For example, [2, 4, 6, 2, 5] should return 13, since we pick 2, 6, and 5. [5, 1, 1, 5] should return 10, since we pick 5 and 5.\n",
        "\n",
        "Follow-up: Can you do this in O(N) time and constant space?"
      ]
    },
    {
      "cell_type": "code",
      "metadata": {
        "id": "8lqTx9zRaS6H",
        "colab_type": "code",
        "colab": {
          "base_uri": "https://localhost:8080/",
          "height": 34
        },
        "outputId": "095bc929-2607-46e5-fa1a-60ff14b68d65"
      },
      "source": [
        "def max_sum(arr,i):\n",
        "  if i==0:\n",
        "    return arr[0]\n",
        "  if i==1:\n",
        "    return max(arr[0],arr[1])\n",
        "  return max(max_sum(arr,i-1),arr[i]+max_sum(arr,i-2))\n",
        "\n",
        "arr = [2,4,6,2,5]\n",
        "max_sum(arr,4)"
      ],
      "execution_count": 6,
      "outputs": [
        {
          "output_type": "execute_result",
          "data": {
            "text/plain": [
              "13"
            ]
          },
          "metadata": {
            "tags": []
          },
          "execution_count": 6
        }
      ]
    },
    {
      "cell_type": "markdown",
      "metadata": {
        "id": "A0fOnGl6cWwB",
        "colab_type": "text"
      },
      "source": [
        "Optimization : Some steps are unnecessarily recalculate so use memorization."
      ]
    },
    {
      "cell_type": "code",
      "metadata": {
        "colab_type": "code",
        "outputId": "eacefdd4-77d8-4774-c4ad-601ad8e78da0",
        "id": "7P-YIVc7d0Ng",
        "colab": {
          "base_uri": "https://localhost:8080/",
          "height": 34
        }
      },
      "source": [
        "\n",
        "def max_sum(arr,i,mem):\n",
        "  if i==0:\n",
        "    return arr[0]\n",
        "  if i==1:\n",
        "    return max(arr[0],arr[1])\n",
        "  if mem[i]:\n",
        "    return mem[i]\n",
        "  mem[i] = max(max_sum(arr,i-1,mem),arr[i]+max_sum(arr,i-2,mem))\n",
        "  return mem[i]\n",
        "\n",
        "\n",
        "arr = [5,1,1,5]\n",
        "mem = [None]*(len(arr)+1)\n",
        "max_sum(arr,3,mem)"
      ],
      "execution_count": 12,
      "outputs": [
        {
          "output_type": "execute_result",
          "data": {
            "text/plain": [
              "10"
            ]
          },
          "metadata": {
            "tags": []
          },
          "execution_count": 12
        }
      ]
    }
  ]
}