{
  "nbformat": 4,
  "nbformat_minor": 0,
  "metadata": {
    "colab": {
      "name": "Untitled3.ipynb",
      "provenance": [],
      "authorship_tag": "ABX9TyO4u4yj4VMeGyre6rqsFSKZ",
      "include_colab_link": true
    },
    "kernelspec": {
      "name": "python3",
      "display_name": "Python 3"
    }
  },
  "cells": [
    {
      "cell_type": "markdown",
      "metadata": {
        "id": "view-in-github",
        "colab_type": "text"
      },
      "source": [
        "<a href=\"https://colab.research.google.com/github/codeshef/DailyCodingProblem/blob/master/problem2.ipynb\" target=\"_parent\"><img src=\"https://colab.research.google.com/assets/colab-badge.svg\" alt=\"Open In Colab\"/></a>"
      ]
    },
    {
      "cell_type": "markdown",
      "metadata": {
        "id": "xbn681V_bFSH",
        "colab_type": "text"
      },
      "source": [
        "### Daily Coding Problem : 2\n",
        "\n",
        "This problem was asked by Uber.\n",
        "\n",
        "Given an array of integers, return a new array such that each element at index i of the new array is the product of all the numbers in the original array except the one at i.\n",
        "\n",
        "For example, if our input was [1, 2, 3, 4, 5], the expected output would be [120, 60, 40, 30, 24]. If our input was [3, 2, 1], the expected output would be [2, 3, 6].\n",
        "\n",
        "Follow-up: what if you can't use division?"
      ]
    },
    {
      "cell_type": "code",
      "metadata": {
        "id": "RaFgGFPrbQYG",
        "colab_type": "code",
        "colab": {
          "base_uri": "https://localhost:8080/",
          "height": 34
        },
        "outputId": "6bcd5bd4-1552-4bc3-f02d-2eee7ae5de48"
      },
      "source": [
        "# if we can use division\n",
        "\n",
        "def prod(arr):\n",
        "  mul =1\n",
        "  res = [0]*(len(arr))\n",
        "  for i in range(len(arr)):\n",
        "    mul*=arr[i]\n",
        "  for i in range(len(arr)):\n",
        "    res[i]=int(mul/arr[i])\n",
        "  return res\n",
        "\n",
        "arr = [3,2,1]\n",
        "ans = prod(arr)\n",
        "print(ans)"
      ],
      "execution_count": 5,
      "outputs": [
        {
          "output_type": "stream",
          "text": [
            "[2, 3, 6]\n"
          ],
          "name": "stdout"
        }
      ]
    }
  ]
}