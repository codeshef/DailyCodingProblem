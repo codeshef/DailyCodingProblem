{
  "nbformat": 4,
  "nbformat_minor": 0,
  "metadata": {
    "colab": {
      "name": "problem3.ipynb",
      "provenance": [],
      "collapsed_sections": [],
      "authorship_tag": "ABX9TyPsBHfWrXjNu5LHggZfQ+0J",
      "include_colab_link": true
    },
    "kernelspec": {
      "name": "python3",
      "display_name": "Python 3"
    }
  },
  "cells": [
    {
      "cell_type": "markdown",
      "metadata": {
        "id": "view-in-github",
        "colab_type": "text"
      },
      "source": [
        "<a href=\"https://colab.research.google.com/github/codeshef/DailyCodingProblem/blob/master/problem1.ipynb\" target=\"_parent\"><img src=\"https://colab.research.google.com/assets/colab-badge.svg\" alt=\"Open In Colab\"/></a>"
      ]
    },
    {
      "cell_type": "markdown",
      "metadata": {
        "id": "jbzghCL8CqzT",
        "colab_type": "text"
      },
      "source": [
        "###  DailyCodingProblem : 1\n",
        "\n",
        "Given a list of numbers, return whether any two sums to k. For example, given [10, 15, 3, 7] and k of 17, return true since 10 + 7 is 17.\n",
        "\n",
        "Bonus: Can you do this in one pass?\n",
        "\n"
      ]
    },
    {
      "cell_type": "code",
      "metadata": {
        "id": "gde17eKuC8hr",
        "colab_type": "code",
        "colab": {
          "base_uri": "https://localhost:8080/",
          "height": 34
        },
        "outputId": "f4e76516-5a61-4903-e3eb-6dc609ebe47c"
      },
      "source": [
        "def sol(numbers,target):\n",
        "   numbers_seen = set()\n",
        "   for number in numbers:\n",
        "     if target - number in numbers_seen:\n",
        "       return True\n",
        "     numbers_seen.add(number)\n",
        "     \n",
        "\n",
        "\n",
        "arr=[10,15,3,7]\n",
        "k=17\n",
        "ans=sol(arr,k)\n",
        "print(ans)"
      ],
      "execution_count": 9,
      "outputs": [
        {
          "output_type": "stream",
          "text": [
            "True\n"
          ],
          "name": "stdout"
        }
      ]
    }
  ]
}