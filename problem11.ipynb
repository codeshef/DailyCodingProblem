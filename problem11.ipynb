{
  "nbformat": 4,
  "nbformat_minor": 0,
  "metadata": {
    "colab": {
      "name": "Untitled2.ipynb",
      "provenance": [],
      "authorship_tag": "ABX9TyPAPhYTnY3NH6/PaHsd1cQL",
      "include_colab_link": true
    },
    "kernelspec": {
      "name": "python3",
      "display_name": "Python 3"
    }
  },
  "cells": [
    {
      "cell_type": "markdown",
      "metadata": {
        "id": "view-in-github",
        "colab_type": "text"
      },
      "source": [
        "<a href=\"https://colab.research.google.com/github/codeshef/DailyCodingProblem/blob/master/problem11.ipynb\" target=\"_parent\"><img src=\"https://colab.research.google.com/assets/colab-badge.svg\" alt=\"Open In Colab\"/></a>"
      ]
    },
    {
      "cell_type": "markdown",
      "metadata": {
        "id": "SYeguG5u32TR",
        "colab_type": "text"
      },
      "source": [
        "\n",
        "###Daily Coding Problem:11\n",
        "\n",
        "This problem was asked by Twitter.\n",
        "\n",
        "Implement an autocomplete system. That is, given a query string s and a set of all possible query strings, return all strings in the set that have s as a prefix.\n",
        "\n",
        "For example, given the query string de and the set of strings [dog, deer, deal], return [deer, deal].\n",
        "\n",
        "Hint: Try preprocessing the dictionary into a more efficient data structure to speed up queries."
      ]
    },
    {
      "cell_type": "code",
      "metadata": {
        "id": "BAWMj0At6HYD",
        "colab_type": "code",
        "colab": {
          "base_uri": "https://localhost:8080/",
          "height": 34
        },
        "outputId": "b6023eff-922b-42c0-9a46-cebe891446f8"
      },
      "source": [
        "# 1st approach that come to my mind\n",
        "\n",
        "def sol(strings,q,s):\n",
        "  for i in strings:\n",
        "    if i[ :2] == q:\n",
        "      s.add(i)\n",
        "  return s\n",
        "      \n",
        "\n",
        "\n",
        "\n",
        "\n",
        "\n",
        "strings =  [\"cat\",\"car\",\"card\",'cet']\n",
        "q = \"ca\"\n",
        "s= set()\n",
        "ans = sol(strings,q,s)\n",
        "print(ans)"
      ],
      "execution_count": 5,
      "outputs": [
        {
          "output_type": "stream",
          "text": [
            "{'card', 'car', 'cat'}\n"
          ],
          "name": "stdout"
        }
      ]
    }
  ]
}