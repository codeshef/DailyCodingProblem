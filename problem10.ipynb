{
  "nbformat": 4,
  "nbformat_minor": 0,
  "metadata": {
    "colab": {
      "name": "Untitled1.ipynb",
      "provenance": [],
      "authorship_tag": "ABX9TyOc6c5cWVK4N5iHyWzIk2w8",
      "include_colab_link": true
    },
    "kernelspec": {
      "name": "python3",
      "display_name": "Python 3"
    }
  },
  "cells": [
    {
      "cell_type": "markdown",
      "metadata": {
        "id": "view-in-github",
        "colab_type": "text"
      },
      "source": [
        "<a href=\"https://colab.research.google.com/github/codeshef/DailyCodingProblem/blob/master/problem10.ipynb\" target=\"_parent\"><img src=\"https://colab.research.google.com/assets/colab-badge.svg\" alt=\"Open In Colab\"/></a>"
      ]
    },
    {
      "cell_type": "markdown",
      "metadata": {
        "id": "oHPQ9zl-Fg7H",
        "colab_type": "text"
      },
      "source": [
        "## Daily Coding Problem :10\n",
        "\n",
        "\n",
        "\n",
        "This problem was asked by Apple.\n",
        "Implement a job scheduler which takes in a function f and an integer n, and calls f after n milliseconds."
      ]
    },
    {
      "cell_type": "code",
      "metadata": {
        "id": "F5b-aZZiGEGR",
        "colab_type": "code",
        "colab": {
          "base_uri": "https://localhost:8080/",
          "height": 52
        },
        "outputId": "69523b43-e970-429a-91c5-d6ea07517361"
      },
      "source": [
        "import time\n",
        "\n",
        "def jobscheduler(f, n):\n",
        "\ttime.sleep(n/1000)\n",
        "\treturn f()\n",
        "\n",
        "print(time.ctime())\n",
        "print(jobscheduler(lambda: \"Hi! \" + time.ctime(), 2000))"
      ],
      "execution_count": 6,
      "outputs": [
        {
          "output_type": "stream",
          "text": [
            "Sun Feb 23 18:15:19 2020\n",
            "Hi! Sun Feb 23 18:15:21 2020\n"
          ],
          "name": "stdout"
        }
      ]
    }
  ]
}